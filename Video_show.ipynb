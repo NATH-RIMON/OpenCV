{
 "cells": [
  {
   "cell_type": "code",
   "execution_count": 1,
   "id": "49180090",
   "metadata": {},
   "outputs": [],
   "source": [
    "import numpy as np\n",
    "import cv2"
   ]
  },
  {
   "cell_type": "code",
   "execution_count": 2,
   "id": "327e4e1f",
   "metadata": {},
   "outputs": [
    {
     "ename": "AttributeError",
     "evalue": "module 'cv2' has no attribute 'TrackerCSRT_create'",
     "output_type": "error",
     "traceback": [
      "\u001b[1;31m---------------------------------------------------------------------------\u001b[0m",
      "\u001b[1;31mAttributeError\u001b[0m                            Traceback (most recent call last)",
      "\u001b[1;32m~\\AppData\\Local\\Temp/ipykernel_6340/3377711264.py\u001b[0m in \u001b[0;36m<module>\u001b[1;34m\u001b[0m\n\u001b[0;32m      1\u001b[0m \u001b[1;31m#video_path=r'C:/Users/rimon/Desktop/DEEP/OpenCV/OpenCV/video/2022-02-25 19-49-28.mkv'\u001b[0m\u001b[1;33m\u001b[0m\u001b[1;33m\u001b[0m\u001b[0m\n\u001b[1;32m----> 2\u001b[1;33m TrDict={'csrt' : cv2.TrackerCSRT_create,\n\u001b[0m\u001b[0;32m      3\u001b[0m        \u001b[1;34m'kcf'\u001b[0m\u001b[1;33m:\u001b[0m\u001b[0mcv2\u001b[0m\u001b[1;33m.\u001b[0m\u001b[0mTrackerKCF_create\u001b[0m\u001b[1;33m,\u001b[0m\u001b[1;33m\u001b[0m\u001b[1;33m\u001b[0m\u001b[0m\n\u001b[0;32m      4\u001b[0m        \u001b[1;34m'boosting'\u001b[0m \u001b[1;33m:\u001b[0m \u001b[0mcv2\u001b[0m\u001b[1;33m.\u001b[0m\u001b[0mTracker_Boosting_create\u001b[0m\u001b[1;33m,\u001b[0m\u001b[1;33m\u001b[0m\u001b[1;33m\u001b[0m\u001b[0m\n\u001b[0;32m      5\u001b[0m        \u001b[1;34m'mil'\u001b[0m\u001b[1;33m:\u001b[0m \u001b[0mcv2\u001b[0m\u001b[1;33m.\u001b[0m\u001b[0mTrackerMIL_create\u001b[0m\u001b[1;33m,\u001b[0m\u001b[1;33m\u001b[0m\u001b[1;33m\u001b[0m\u001b[0m\n",
      "\u001b[1;31mAttributeError\u001b[0m: module 'cv2' has no attribute 'TrackerCSRT_create'"
     ]
    }
   ],
   "source": [
    "#video_path=r'C:/Users/rimon/Desktop/DEEP/OpenCV/OpenCV/video/2022-02-25 19-49-28.mkv'\n",
    "TrDict={'csrt' : cv2.TrackerCSRT_create,\n",
    "       'kcf':cv2.TrackerKCF_create,\n",
    "       'boosting' : cv2.Tracker_Boosting_create,\n",
    "       'mil': cv2.TrackerMIL_create,\n",
    "       'tld':cv2.TrackerTLD_create,\n",
    "       'medianflow':cv2.TrackerMedianFlow_create,\n",
    "       'mosse':cv2.TrackerMOSSE_create}\n"
   ]
  },
  {
   "cell_type": "code",
   "execution_count": 6,
   "id": "5adf82a2",
   "metadata": {},
   "outputs": [
    {
     "ename": "IndentationError",
     "evalue": "expected an indented block (Temp/ipykernel_1932/2070904839.py, line 6)",
     "output_type": "error",
     "traceback": [
      "\u001b[1;36m  File \u001b[1;32m\"C:\\Users\\rimon\\AppData\\Local\\Temp/ipykernel_1932/2070904839.py\"\u001b[1;36m, line \u001b[1;32m6\u001b[0m\n\u001b[1;33m    img=cv2.resize(frame(600,400))\u001b[0m\n\u001b[1;37m    ^\u001b[0m\n\u001b[1;31mIndentationError\u001b[0m\u001b[1;31m:\u001b[0m expected an indented block\n"
     ]
    }
   ],
   "source": [
    "cap=cv2.VideoCapture(video_path)\n",
    "\n",
    "while cap.isOpened():\n",
    "    ret,frame=cap.read()\n",
    "    if ret:\n",
    "    img=cv2.resize(frame(600,400))\n",
    "    cv2.imshow(img)\n",
    "    \n",
    "    \n",
    "    if cv2.waitKey(25)& 0xff==ord('q'):\n",
    "        break\n",
    "    \n",
    "    else:\n",
    "        break\n",
    "    \n",
    "cap.release()\n",
    "\n",
    "cv2.destroyAllWindows()\n",
    "    \n",
    "    "
   ]
  },
  {
   "cell_type": "code",
   "execution_count": null,
   "id": "db3df759",
   "metadata": {},
   "outputs": [],
   "source": []
  }
 ],
 "metadata": {
  "kernelspec": {
   "display_name": "Python 3 (ipykernel)",
   "language": "python",
   "name": "python3"
  },
  "language_info": {
   "codemirror_mode": {
    "name": "ipython",
    "version": 3
   },
   "file_extension": ".py",
   "mimetype": "text/x-python",
   "name": "python",
   "nbconvert_exporter": "python",
   "pygments_lexer": "ipython3",
   "version": "3.9.7"
  }
 },
 "nbformat": 4,
 "nbformat_minor": 5
}
