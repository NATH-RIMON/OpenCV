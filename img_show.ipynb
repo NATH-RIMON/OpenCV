{
 "cells": [
  {
   "cell_type": "code",
   "execution_count": 1,
   "id": "1b4950a1",
   "metadata": {},
   "outputs": [
    {
     "data": {
      "text/plain": [
       "'3.9.16 (main, Mar  8 2023, 10:39:24) [MSC v.1916 64 bit (AMD64)]'"
      ]
     },
     "execution_count": 1,
     "metadata": {},
     "output_type": "execute_result"
    }
   ],
   "source": [
    "import sys\n",
    "sys.version"
   ]
  },
  {
   "cell_type": "code",
   "execution_count": 2,
   "id": "d8b2a6ec",
   "metadata": {},
   "outputs": [
    {
     "name": "stdout",
     "output_type": "stream",
     "text": [
      "OpenCv Version  4.6.0\n"
     ]
    }
   ],
   "source": [
    "#python -v\n",
    "import cv2\n",
    "print('OpenCv Version ',cv2.__version__)\n",
    " "
   ]
  },
  {
   "cell_type": "code",
   "execution_count": 21,
   "id": "d12eb5ab",
   "metadata": {},
   "outputs": [
    {
     "name": "stdout",
     "output_type": "stream",
     "text": [
      "Numpy Version  1.24.3\n"
     ]
    }
   ],
   "source": [
    "import numpy as np\n",
    "print('Numpy Version ',numpy.__version__)"
   ]
  },
  {
   "cell_type": "code",
   "execution_count": 4,
   "id": "f190bae4",
   "metadata": {},
   "outputs": [
    {
     "name": "stdout",
     "output_type": "stream",
     "text": [
      "Tensorflow Version  2.10.0\n"
     ]
    }
   ],
   "source": [
    "import tensorflow\n",
    "print('Tensorflow Version ',tensorflow.__version__)"
   ]
  },
  {
   "cell_type": "code",
   "execution_count": 12,
   "id": "50129814",
   "metadata": {},
   "outputs": [],
   "source": [
    "path=r\"C:/Users/rimon/Desktop/DEEP/OpenCV/OpenCV/photo/\"\n",
    "img_name=\"IMG_9903 (1).JPG\"\n",
    "\n",
    "img=cv2.imread(path + '\\\\' + img_name)\n",
    "cv2.imshow('Image',img)\n",
    "cv2.waitKey(0)\n",
    "cv2.destroyAllWindows()"
   ]
  },
  {
   "cell_type": "code",
   "execution_count": 13,
   "id": "8252322b",
   "metadata": {},
   "outputs": [],
   "source": [
    "img=cv2.imread(path + '\\\\' + img_name)\n",
    "img=cv2.resize(img,(300,600))\n",
    "cv2.imshow('Image',img)\n",
    "cv2.waitKey(0)\n",
    "cv2.destroyAllWindows()"
   ]
  },
  {
   "cell_type": "code",
   "execution_count": 14,
   "id": "c4085a90",
   "metadata": {},
   "outputs": [],
   "source": [
    "import os"
   ]
  },
  {
   "cell_type": "code",
   "execution_count": 15,
   "id": "d40b5c90",
   "metadata": {},
   "outputs": [
    {
     "data": {
      "text/plain": [
       "['18-38929-3.jpg',\n",
       " '2.jpg',\n",
       " '2414327_5139 [Converted]logopancho jonno copy-01.jpg',\n",
       " '78o.jpg',\n",
       " 'Fantasy-108_0.jpg',\n",
       " 'IMG_9903 (1).JPG',\n",
       " 'IMG_9903.JPG',\n",
       " 'O1CN01JaKt9C1mcb8IMepgo_!!6000000004975-0-m_tb_svideo_preimg.jpg',\n",
       " 'WhatsApp Image 2023-02-19 at 22.52.41.jpg',\n",
       " 'WhatsApp Image 2023-02-22 at 01.44.47.jpg']"
      ]
     },
     "execution_count": 15,
     "metadata": {},
     "output_type": "execute_result"
    }
   ],
   "source": [
    "img_names=os.listdir('C:/Users/rimon/Desktop/DEEP/OpenCV/OpenCV/photo/')\n",
    "img_names"
   ]
  },
  {
   "cell_type": "code",
   "execution_count": 20,
   "id": "7e3757d0",
   "metadata": {},
   "outputs": [],
   "source": [
    "for img_name in img_names:\n",
    "    img_path_full=path+img_name\n",
    "    img=cv2.imread(img_path_full)\n",
    "    img=cv2.resize(img,(400,600))\n",
    "    cv2.imshow('Image',img)\n",
    "    cv2.waitKey(0)\n",
    "    \n",
    "    \n",
    "cv2.destroyAllWindows()"
   ]
  },
  {
   "cell_type": "code",
   "execution_count": 25,
   "id": "d4b50e57",
   "metadata": {},
   "outputs": [],
   "source": [
    "for img_name in img_names:\n",
    "    img_path_full=path+img_name\n",
    "    img=cv2.imread(img_path_full)\n",
    "    img=cv2.resize(img,(800,700))\n",
    "    img_2=np.hstack((img,img))\n",
    "    img_4=np.vstack((img_2,img_2))\n",
    "    cv2.imshow('4 Image',img_4)\n",
    "    cv2.waitKey(0)\n",
    "    \n",
    "    \n",
    "cv2.destroyAllWindows()"
   ]
  },
  {
   "cell_type": "code",
   "execution_count": null,
   "id": "964444b4",
   "metadata": {},
   "outputs": [],
   "source": []
  }
 ],
 "metadata": {
  "kernelspec": {
   "display_name": "Python 3 (ipykernel)",
   "language": "python",
   "name": "python3"
  },
  "language_info": {
   "codemirror_mode": {
    "name": "ipython",
    "version": 3
   },
   "file_extension": ".py",
   "mimetype": "text/x-python",
   "name": "python",
   "nbconvert_exporter": "python",
   "pygments_lexer": "ipython3",
   "version": "3.9.7"
  }
 },
 "nbformat": 4,
 "nbformat_minor": 5
}
